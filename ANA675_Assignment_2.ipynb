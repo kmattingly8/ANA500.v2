{
  "nbformat": 4,
  "nbformat_minor": 0,
  "metadata": {
    "colab": {
      "provenance": [],
      "authorship_tag": "ABX9TyOCqka9pH1LnMhzN8DMKmyC",
      "include_colab_link": true
    },
    "kernelspec": {
      "name": "python3",
      "display_name": "Python 3"
    },
    "language_info": {
      "name": "python"
    }
  },
  "cells": [
    {
      "cell_type": "markdown",
      "metadata": {
        "id": "view-in-github",
        "colab_type": "text"
      },
      "source": [
        "<a href=\"https://colab.research.google.com/github/kmattingly8/ANA500.v2/blob/main/ANA675_Assignment_2.ipynb\" target=\"_parent\"><img src=\"https://colab.research.google.com/assets/colab-badge.svg\" alt=\"Open In Colab\"/></a>"
      ]
    },
    {
      "cell_type": "markdown",
      "source": [
        "# ANA 675 Assignment 2\n",
        "###Kirsten Mattingly\n",
        "####January 17, 2025\n",
        "\n",
        "<br>\n",
        "<br>\n",
        "\n",
        "\n",
        "**Directions**: Use Keras to design and train MLP neural network (Backpropagation algorithm) to work as an XOR gate of two inputs. At the end show the evaluation and the prediction of your neural network.\n",
        "<br>\n",
        "<br>\n",
        "\n",
        "**Definition**: An XOR (Exclusive OR) gate for 2 inputs outputs true (1) when the inputs are different from each other and false (0) when the inputs are the same.\n",
        "\n",
        "Truth Table for an XOR Gate (2 inputs):\n",
        "\n",
        "|Input A\t  |Input B\t|Output (A XOR B)|\n",
        "|-------      |-------  |----------------|\n",
        "|0\t      |0\t        |0|\n",
        "|0\t      |1\t        |1|\n",
        "|1\t      |0\t        |1|\n",
        "|1\t      |1\t        |0|\n",
        "\n",
        "Summary of XOR Gate:\n",
        "- When both inputs are the same (either 0,0 or 1,1), the output is 0.\n",
        "- When the inputs are different (0,1 or 1,0), the output is 1.\n",
        "<br>\n",
        "<br>\n",
        "\n",
        "**Project Steps**:\n",
        "1. Data Preparation: Define the input-output pairs for the XOR gate.\n",
        "2. Model Creation: Create a simple neural network with at least one hidden layer.\n",
        "3. Model Compilation: Compile the model with an appropriate optimizer and loss function.\n",
        "4. Model Training: Train the model on the XOR dataset.\n",
        "5. Evaluation and Prediction: Evaluate the model's performance and make predictions on the input."
      ],
      "metadata": {
        "id": "Th8n2sh9SsoR"
      }
    },
    {
      "cell_type": "code",
      "execution_count": null,
      "metadata": {
        "id": "LhWnJwpnNcHg"
      },
      "outputs": [],
      "source": [
        "# Import Libraries\n",
        "\n",
        "import numpy as np\n",
        "import tensorflow as tf\n",
        "from tensorflow.keras.models import Sequential\n",
        "from tensorflow.keras.layers import Dense\n",
        "from tensorflow.keras.optimizers import Adam"
      ]
    },
    {
      "cell_type": "code",
      "source": [
        "print(tf.__version__)"
      ],
      "metadata": {
        "colab": {
          "base_uri": "https://localhost:8080/"
        },
        "id": "HBi9U0f1P-pb",
        "outputId": "443c0a83-c677-4ed6-dc1e-456aa4757d6d"
      },
      "execution_count": null,
      "outputs": [
        {
          "output_type": "stream",
          "name": "stdout",
          "text": [
            "2.17.1\n"
          ]
        }
      ]
    },
    {
      "cell_type": "code",
      "source": [
        "# Define the XOR Dataset\n",
        "\n",
        "# Inputs (X)\n",
        "X = np.array([[0, 0],\n",
        "              [0, 1],\n",
        "              [1, 0],\n",
        "              [1, 1]])\n",
        "\n",
        "# Outputs (Y)\n",
        "y = np.array([[0],\n",
        "              [1],\n",
        "              [1],\n",
        "              [0]])"
      ],
      "metadata": {
        "id": "kHQ1_F2kQLeA"
      },
      "execution_count": null,
      "outputs": []
    },
    {
      "cell_type": "code",
      "source": [
        "# Create the MLP model\n",
        "model = Sequential()\n",
        "model.add(tf.keras.Input(shape=(2,))) # Input layer (2 inputs)\n",
        "model.add(Dense(4, activation='relu'))  # Hidden layer (4 neurons), relu activation\n",
        "model.add(Dense(1, activation='sigmoid'))  # Output layer with 1 output (XOR result), sigmoid for binary classification"
      ],
      "metadata": {
        "id": "aRdLq-m6QSL3"
      },
      "execution_count": null,
      "outputs": []
    },
    {
      "cell_type": "code",
      "source": [
        "# Compile the model\n",
        "model.compile(optimizer=Adam(),  # Adam optimizer\n",
        "              loss='binary_crossentropy',  # Binary crossentropy for binary classification\n",
        "              metrics=['accuracy'])"
      ],
      "metadata": {
        "id": "isrzS8IQQWEC"
      },
      "execution_count": null,
      "outputs": []
    },
    {
      "cell_type": "code",
      "source": [
        "# Train the model\n",
        "history = model.fit(X, y, epochs=10000, verbose=0)  # Train the model for 10,000 epochs\n",
        "\n",
        "# Make predictions\n",
        "predictions = model.predict(X)\n",
        "predictions = (predictions > 0.5).astype(int)  # Convert the predictions to 0 or 1 with threshold at 0.5 for binary classification\n",
        "\n",
        "print(\"\\nPredictions:\")\n",
        "for i in range(len(X)):\n",
        "    print(f\"Input: {X[i]}, Predicted Output: {predictions[i][0]}\")\n",
        "\n",
        "# Evaluate the model\n",
        "loss, accuracy = model.evaluate(X, y)\n",
        "print(f\"\\nFinal loss: {loss:.4f}\")\n",
        "print(f\"Final accuracy: {accuracy:.4f}\")\n",
        "\n",
        "# Plot the Loss over Epochs chart\n",
        "import matplotlib.pyplot as plt\n",
        "plt.plot(history.history['loss'])\n",
        "plt.title('Loss over Epochs')\n",
        "plt.xlabel('Epochs')\n",
        "plt.ylabel('Loss')\n",
        "plt.show()"
      ],
      "metadata": {
        "colab": {
          "base_uri": "https://localhost:8080/",
          "height": 668
        },
        "id": "29EUNPgTT0AS",
        "outputId": "bbd92ed4-006c-4608-b11d-bc075a59b9db"
      },
      "execution_count": null,
      "outputs": [
        {
          "output_type": "stream",
          "name": "stdout",
          "text": [
            "\u001b[1m1/1\u001b[0m \u001b[32m━━━━━━━━━━━━━━━━━━━━\u001b[0m\u001b[37m\u001b[0m \u001b[1m0s\u001b[0m 21ms/step\n",
            "\n",
            "Predictions:\n",
            "Input: [0 0], Predicted Output: 0\n",
            "Input: [0 1], Predicted Output: 1\n",
            "Input: [1 0], Predicted Output: 1\n",
            "Input: [1 1], Predicted Output: 0\n",
            "\u001b[1m1/1\u001b[0m \u001b[32m━━━━━━━━━━━━━━━━━━━━\u001b[0m\u001b[37m\u001b[0m \u001b[1m0s\u001b[0m 27ms/step - accuracy: 1.0000 - loss: 1.0474e-05\n",
            "\n",
            "Final loss: 0.0000\n",
            "Final accuracy: 1.0000\n"
          ]
        },
        {
          "output_type": "display_data",
          "data": {
            "text/plain": [
              "<Figure size 640x480 with 1 Axes>"
            ],
            "image/png": "[encoded data removed]"
          },
          "metadata": {}
        }
      ]
    },
    {
      "cell_type": "markdown",
      "source": [
        "As we can see from the predictions above, an MLP network with only an input layer, one hidden layer with 4 neurons, and an output layer was able to learn the XOR gate rules extremely well over 10,000 epochs. After training, its predictions were 100% accurate.\n",
        "\n",
        "The loss reduction throughout the training can be seen in the Loss over Epochs curve above. Loss decreased quite quickly at first, and then slowed down over the epochs until it leveled out very close to zero."
      ],
      "metadata": {
        "id": "AzQxH-woWlAL"
      }
    }
  ]
}